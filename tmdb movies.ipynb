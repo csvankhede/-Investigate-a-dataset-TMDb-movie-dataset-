{
 "cells": [
  {
   "cell_type": "markdown",
   "metadata": {},
   "source": [
    "# project : Investigate a dataset\n",
    "\n",
    "I have choosed TMDb movie data to investigate for this project\n"
   ]
  },
  {
   "cell_type": "markdown",
   "metadata": {},
   "source": [
    "1. Which genres are the most popular from year to year?\n",
    "2. What kinds of properties are associated with movies that have high revenues?\n",
    "3. Ralation between budget and revenue.\n",
    "4. popularity of movie based on production company.\n",
    "5. common cast name."
   ]
  },
  {
   "cell_type": "markdown",
   "metadata": {},
   "source": [
    "## Import the required libraries\n",
    " "
   ]
  },
  {
   "cell_type": "code",
   "execution_count": 60,
   "metadata": {},
   "outputs": [],
   "source": [
    "import numpy as np\n",
    "import matplotlib.pyplot as plt\n",
    "import seaborn\n",
    "import pandas as pd"
   ]
  },
  {
   "cell_type": "code",
   "execution_count": 61,
   "metadata": {},
   "outputs": [
    {
     "data": {
      "text/html": [
       "<div>\n",
       "<style scoped>\n",
       "    .dataframe tbody tr th:only-of-type {\n",
       "        vertical-align: middle;\n",
       "    }\n",
       "\n",
       "    .dataframe tbody tr th {\n",
       "        vertical-align: top;\n",
       "    }\n",
       "\n",
       "    .dataframe thead th {\n",
       "        text-align: right;\n",
       "    }\n",
       "</style>\n",
       "<table border=\"1\" class=\"dataframe\">\n",
       "  <thead>\n",
       "    <tr style=\"text-align: right;\">\n",
       "      <th></th>\n",
       "      <th>id</th>\n",
       "      <th>imdb_id</th>\n",
       "      <th>popularity</th>\n",
       "      <th>budget</th>\n",
       "      <th>revenue</th>\n",
       "      <th>original_title</th>\n",
       "      <th>cast</th>\n",
       "      <th>homepage</th>\n",
       "      <th>director</th>\n",
       "      <th>tagline</th>\n",
       "      <th>...</th>\n",
       "      <th>overview</th>\n",
       "      <th>runtime</th>\n",
       "      <th>genres</th>\n",
       "      <th>production_companies</th>\n",
       "      <th>release_date</th>\n",
       "      <th>vote_count</th>\n",
       "      <th>vote_average</th>\n",
       "      <th>release_year</th>\n",
       "      <th>budget_adj</th>\n",
       "      <th>revenue_adj</th>\n",
       "    </tr>\n",
       "  </thead>\n",
       "  <tbody>\n",
       "    <tr>\n",
       "      <th>10863</th>\n",
       "      <td>39768</td>\n",
       "      <td>tt0060161</td>\n",
       "      <td>0.065141</td>\n",
       "      <td>0</td>\n",
       "      <td>0</td>\n",
       "      <td>Beregis Avtomobilya</td>\n",
       "      <td>Innokentiy Smoktunovskiy|Oleg Efremov|Georgi Z...</td>\n",
       "      <td>NaN</td>\n",
       "      <td>Eldar Ryazanov</td>\n",
       "      <td>NaN</td>\n",
       "      <td>...</td>\n",
       "      <td>An insurance agent who moonlights as a carthie...</td>\n",
       "      <td>94</td>\n",
       "      <td>Mystery|Comedy</td>\n",
       "      <td>Mosfilm</td>\n",
       "      <td>1/1/66</td>\n",
       "      <td>11</td>\n",
       "      <td>6.5</td>\n",
       "      <td>1966</td>\n",
       "      <td>0.000000</td>\n",
       "      <td>0.0</td>\n",
       "    </tr>\n",
       "    <tr>\n",
       "      <th>10864</th>\n",
       "      <td>21449</td>\n",
       "      <td>tt0061177</td>\n",
       "      <td>0.064317</td>\n",
       "      <td>0</td>\n",
       "      <td>0</td>\n",
       "      <td>What's Up, Tiger Lily?</td>\n",
       "      <td>Tatsuya Mihashi|Akiko Wakabayashi|Mie Hama|Joh...</td>\n",
       "      <td>NaN</td>\n",
       "      <td>Woody Allen</td>\n",
       "      <td>WOODY ALLEN STRIKES BACK!</td>\n",
       "      <td>...</td>\n",
       "      <td>In comic Woody Allen's film debut, he took the...</td>\n",
       "      <td>80</td>\n",
       "      <td>Action|Comedy</td>\n",
       "      <td>Benedict Pictures Corp.</td>\n",
       "      <td>11/2/66</td>\n",
       "      <td>22</td>\n",
       "      <td>5.4</td>\n",
       "      <td>1966</td>\n",
       "      <td>0.000000</td>\n",
       "      <td>0.0</td>\n",
       "    </tr>\n",
       "    <tr>\n",
       "      <th>10865</th>\n",
       "      <td>22293</td>\n",
       "      <td>tt0060666</td>\n",
       "      <td>0.035919</td>\n",
       "      <td>19000</td>\n",
       "      <td>0</td>\n",
       "      <td>Manos: The Hands of Fate</td>\n",
       "      <td>Harold P. Warren|Tom Neyman|John Reynolds|Dian...</td>\n",
       "      <td>NaN</td>\n",
       "      <td>Harold P. Warren</td>\n",
       "      <td>It's Shocking! It's Beyond Your Imagination!</td>\n",
       "      <td>...</td>\n",
       "      <td>A family gets lost on the road and stumbles up...</td>\n",
       "      <td>74</td>\n",
       "      <td>Horror</td>\n",
       "      <td>Norm-Iris</td>\n",
       "      <td>11/15/66</td>\n",
       "      <td>15</td>\n",
       "      <td>1.5</td>\n",
       "      <td>1966</td>\n",
       "      <td>127642.279154</td>\n",
       "      <td>0.0</td>\n",
       "    </tr>\n",
       "  </tbody>\n",
       "</table>\n",
       "<p>3 rows × 21 columns</p>\n",
       "</div>"
      ],
      "text/plain": [
       "          id    imdb_id  popularity  budget  revenue  \\\n",
       "10863  39768  tt0060161    0.065141       0        0   \n",
       "10864  21449  tt0061177    0.064317       0        0   \n",
       "10865  22293  tt0060666    0.035919   19000        0   \n",
       "\n",
       "                 original_title  \\\n",
       "10863       Beregis Avtomobilya   \n",
       "10864    What's Up, Tiger Lily?   \n",
       "10865  Manos: The Hands of Fate   \n",
       "\n",
       "                                                    cast homepage  \\\n",
       "10863  Innokentiy Smoktunovskiy|Oleg Efremov|Georgi Z...      NaN   \n",
       "10864  Tatsuya Mihashi|Akiko Wakabayashi|Mie Hama|Joh...      NaN   \n",
       "10865  Harold P. Warren|Tom Neyman|John Reynolds|Dian...      NaN   \n",
       "\n",
       "               director                                       tagline  \\\n",
       "10863    Eldar Ryazanov                                           NaN   \n",
       "10864       Woody Allen                     WOODY ALLEN STRIKES BACK!   \n",
       "10865  Harold P. Warren  It's Shocking! It's Beyond Your Imagination!   \n",
       "\n",
       "          ...                                                overview runtime  \\\n",
       "10863     ...       An insurance agent who moonlights as a carthie...      94   \n",
       "10864     ...       In comic Woody Allen's film debut, he took the...      80   \n",
       "10865     ...       A family gets lost on the road and stumbles up...      74   \n",
       "\n",
       "               genres     production_companies release_date vote_count  \\\n",
       "10863  Mystery|Comedy                  Mosfilm       1/1/66         11   \n",
       "10864   Action|Comedy  Benedict Pictures Corp.      11/2/66         22   \n",
       "10865          Horror                Norm-Iris     11/15/66         15   \n",
       "\n",
       "       vote_average  release_year     budget_adj  revenue_adj  \n",
       "10863           6.5          1966       0.000000          0.0  \n",
       "10864           5.4          1966       0.000000          0.0  \n",
       "10865           1.5          1966  127642.279154          0.0  \n",
       "\n",
       "[3 rows x 21 columns]"
      ]
     },
     "execution_count": 61,
     "metadata": {},
     "output_type": "execute_result"
    }
   ],
   "source": [
    "#read the csv file using pandas read_csv\n",
    "tmdb_df = pd.read_csv(\"tmdb-movies.csv\")\n",
    "tmdb_df.tail(3)"
   ]
  },
  {
   "cell_type": "markdown",
   "metadata": {},
   "source": [
    "## Fixing the data types"
   ]
  },
  {
   "cell_type": "markdown",
   "metadata": {},
   "source": [
    "  we are using pandas DataFrame here so we don't need to fix the nan values.\n",
    "  Here we create some new dataframe in `higher_value_data` for perticular values needed."
   ]
  },
  {
   "cell_type": "markdown",
   "metadata": {},
   "source": [
    "1 Which genres are the most popular from year to year?\n",
    "    \n",
    "   The answer to this quetion is Drama."
   ]
  },
  {
   "cell_type": "code",
   "execution_count": 62,
   "metadata": {},
   "outputs": [
    {
     "name": "stdout",
     "output_type": "stream",
     "text": [
      "Drama\n"
     ]
    }
   ],
   "source": [
    "#this function takes the input of file name and returns the name of the most popular genres\n",
    "def most_popular_genres(file_name):\n",
    "    genres = file_name[\"genres\"].str.cat(sep=\"|\").split(\"|\")\n",
    "    table=pd.Series(genres).value_counts(ascending=True)[-10:]\n",
    "    print table.idxmax()\n",
    "    \n",
    "most_popular_genres(tmdb_df)\n"
   ]
  },
  {
   "cell_type": "markdown",
   "metadata": {},
   "source": [
    " 2 What kinds of properties are associated with movies that have high revenues?\n",
    "    \n",
    "    The high revenue movies are mostly adventure type and has mean of revenue 39823319.7934 ,mean budget 14625701.0941 and mean popularity 0.64644095196."
   ]
  },
  {
   "cell_type": "code",
   "execution_count": 63,
   "metadata": {},
   "outputs": [
    {
     "name": "stdout",
     "output_type": "stream",
     "text": [
      "Adventure\n"
     ]
    }
   ],
   "source": [
    "#arr_data takes the input of file name and field of which we want array and it returns that array\n",
    "def arr_data(file_name,feild):\n",
    "    arr_data = []\n",
    "    for data_point in file_name.loc[:,feild]:\n",
    "        arr_data.append(data_point)\n",
    "    return arr_data\n",
    "std_of_revenue = np.std(arr_data(tmdb_df,\"revenue\"))\n",
    "# higher_value_data takes the input of file name,field name and standard deviation of the field\n",
    "# and returns the most higher value of that feild which is higher than 10 standard deviation of \n",
    "# the given field\n",
    "def higher_value_data(file_name,feild,std):\n",
    "    properties = []\n",
    "    df = pd.DataFrame()\n",
    "    for data_point in file_name.loc[:,feild]:\n",
    "            if data_point > (10.0*std):\n",
    "                properties.append(file_name.loc[file_name[feild] == data_point])\n",
    "    return df.append(properties)\n",
    "\n",
    "most_popular_genres(higher_value_data(tmdb_df,\"revenue\",std_of_revenue))\n",
    "revenue = arr_data(tmdb_df,\"revenue\")\n",
    "budget = arr_data(tmdb_df,\"budget\")\n",
    "popularity = arr_data(tmdb_df,\"popularity\")\n"
   ]
  },
  {
   "cell_type": "code",
   "execution_count": 64,
   "metadata": {},
   "outputs": [
    {
     "name": "stdout",
     "output_type": "stream",
     "text": [
      "Mean: 39823319.7934\n",
      "Standard deviation: 116998102.532\n",
      "Minimum: 0\n",
      "Maximum: 2781505847\n"
     ]
    },
    {
     "data": {
      "image/png": "[encoded data removed]",
      "text/plain": [
       "<matplotlib.figure.Figure at 0x143c82b0>"
      ]
     },
     "metadata": {},
     "output_type": "display_data"
    },
    {
     "name": "stdout",
     "output_type": "stream",
     "text": [
      "Mean: 14625701.0941\n",
      "Standard deviation: 30911791.3243\n",
      "Minimum: 0\n",
      "Maximum: 425000000\n"
     ]
    },
    {
     "data": {
      "image/png": "[encoded data removed]",
      "text/plain": [
       "<matplotlib.figure.Figure at 0x10c2e550>"
      ]
     },
     "metadata": {},
     "output_type": "display_data"
    },
    {
     "name": "stdout",
     "output_type": "stream",
     "text": [
      "Mean: 0.64644095196\n",
      "Standard deviation: 1.00013890965\n",
      "Minimum: 6.5e-05\n",
      "Maximum: 32.985763\n"
     ]
    },
    {
     "data": {
      "image/png": "[encoded data removed]",
      "text/plain": [
       "<matplotlib.figure.Figure at 0x146c04a8>"
      ]
     },
     "metadata": {},
     "output_type": "display_data"
    }
   ],
   "source": [
    "#this function gives the discription of data field and visualization of data\n",
    "def data_description(data,title):\n",
    "    print 'Mean:', np.mean(data)\n",
    "    print 'Standard deviation:', np.std(data)\n",
    "    print 'Minimum:', np.min(data)\n",
    "    print 'Maximum:', np.max(data)\n",
    "    plt.title(title)\n",
    "    plt.xlabel(\"{} distribution\".format(title))\n",
    "    plt.ylabel(\"Intensity\")\n",
    "    plt.hist(data)\n",
    "    plt.show()\n",
    "data_description(revenue,\"revenue\")\n",
    "data_description(budget,\"budget\")\n",
    "data_description(popularity,\"popularity\")"
   ]
  },
  {
   "cell_type": "markdown",
   "metadata": {},
   "source": [
    "3 Ralation between budget and revenue.\n",
    "\n",
    "   The visual relation of budget and revenue is roughly similer, mean relation is as shown in above code which is mean of revenue is 39823319.7934 ,mean of budget is 14625701.0941\n",
    "\n",
    "    "
   ]
  },
  {
   "cell_type": "code",
   "execution_count": 65,
   "metadata": {},
   "outputs": [
    {
     "data": {
      "image/png": "[encoded data removed]",
      "text/plain": [
       "<matplotlib.figure.Figure at 0x1469d1d0>"
      ]
     },
     "metadata": {},
     "output_type": "display_data"
    },
    {
     "data": {
      "image/png": "[encoded data removed]",
      "text/plain": [
       "<matplotlib.figure.Figure at 0xb1bb6d8>"
      ]
     },
     "metadata": {},
     "output_type": "display_data"
    },
    {
     "data": {
      "image/png": "[encoded data removed]",
      "text/plain": [
       "<matplotlib.figure.Figure at 0xffb44e0>"
      ]
     },
     "metadata": {},
     "output_type": "display_data"
    },
    {
     "data": {
      "text/plain": [
       "<matplotlib.collections.PathCollection at 0x10fda0f0>"
      ]
     },
     "execution_count": 65,
     "metadata": {},
     "output_type": "execute_result"
    },
    {
     "data": {
      "image/png": "[encoded data removed]",
      "text/plain": [
       "<matplotlib.figure.Figure at 0x11120198>"
      ]
     },
     "metadata": {},
     "output_type": "display_data"
    }
   ],
   "source": [
    "#here we visulaized the data of budget and revenue.\n",
    "%matplotlib inline\n",
    "plt.title(\"budget\")\n",
    "plt.xlabel(\"budget in $\")\n",
    "plt.ylabel(\"intensity\")\n",
    "plt.hist(budget,bins = 25)\n",
    "plt.show()\n",
    "plt.title(\"revenue\")\n",
    "plt.xlabel(\"revenue in $\")\n",
    "plt.ylabel(\"intensity\")\n",
    "plt.hist(revenue,bins = 25)\n",
    "plt.show()\n",
    "plt.title(\"revenue and budget relation\")\n",
    "plt.xlabel(\"revenue and budget\")\n",
    "plt.ylabel(\"Intensity\")\n",
    "plt.plot(revenue,c = \"blue\")\n",
    "plt.plot(budget,c = \"red\")\n",
    "\n",
    "plt.show()\n",
    "plt.xlabel(\"revenue\")\n",
    "plt.ylabel(\"budget\")\n",
    "plt.scatter(revenue,budget)"
   ]
  },
  {
   "cell_type": "markdown",
   "metadata": {},
   "source": [
    "4  popularity of movie based on production company.\n",
    "\n",
    "   High popularity movies has the following production companies"
   ]
  },
  {
   "cell_type": "code",
   "execution_count": 66,
   "metadata": {},
   "outputs": [
    {
     "name": "stdout",
     "output_type": "stream",
     "text": [
      "Syncopy                    1\n",
      "Bad Robot                  1\n",
      "Summit Entertainment       1\n",
      "Fuji Television Network    1\n",
      "Lynda Obst Productions     1\n",
      "Color Force                1\n",
      "Lucasfilm                  2\n",
      "Marvel Studios             2\n",
      "Legendary Pictures         2\n",
      "Warner Bros.               2\n",
      "dtype: int64\n"
     ]
    }
   ],
   "source": [
    "std_of_popularity = np.std(popularity)\n",
    "#here we get the series of production companies base on high popularity where the number shows \n",
    "#the movies by the production companies with high popularity\n",
    "popularity = higher_value_data(tmdb_df,\"popularity\",std_of_popularity)[\"production_companies\"].str.cat(sep=\"|\").split(\"|\")\n",
    "table=pd.Series(popularity).value_counts(ascending=True)[-10:]\n",
    "print table\n",
    "        "
   ]
  },
  {
   "cell_type": "markdown",
   "metadata": {},
   "source": [
    "5 common cast name\n",
    "    \n",
    "   The most comman cast names are as given below ,among all of them `Robert De Niro` is most common actor with his name in `72` movies."
   ]
  },
  {
   "cell_type": "code",
   "execution_count": 67,
   "metadata": {},
   "outputs": [
    {
     "name": "stdout",
     "output_type": "stream",
     "text": [
      "Liam Neeson          48\n",
      "John Goodman         49\n",
      "Morgan Freeman       49\n",
      "John Cusack          50\n",
      "Robin Williams       51\n",
      "Michael Caine        53\n",
      "Nicolas Cage         61\n",
      "Bruce Willis         62\n",
      "Samuel L. Jackson    71\n",
      "Robert De Niro       72\n",
      "dtype: int64\n"
     ]
    },
    {
     "data": {
      "image/png": "[encoded data removed]",
      "text/plain": [
       "<matplotlib.figure.Figure at 0x1140f5f8>"
      ]
     },
     "metadata": {},
     "output_type": "display_data"
    }
   ],
   "source": [
    "actor = tmdb_df[\"cast\"].str.cat(sep=\"|\").split(\"|\")\n",
    "\n",
    "table=pd.Series(actor).value_counts(ascending=True)[-10:]\n",
    "graph = table.plot.barh()\n",
    "graph.set(title = \"List of 10 actors which has been casted more...\",xlabel = \"Number of time casted.\")\n",
    "print table\n"
   ]
  },
  {
   "cell_type": "markdown",
   "metadata": {},
   "source": [
    "## Conclusion"
   ]
  },
  {
   "cell_type": "markdown",
   "metadata": {},
   "source": [
    "We conclude that the revenue and budget of the data is roughly similar. As per our analysis most casted actor has no realtion with revenue.\n",
    "In high revenue movie genres are Adventure.\n",
    "The limitation of this dataset is that it has some missing values or nan values which can affect the data description values like mean ,meadian, standard deviation etc.\n",
    "This data set is from long period which in this case affect the revenue and budget of the movie data\n",
    "there are other factors which can affect the success of the movie.\n",
    "We got name of the actors contributed most in film industry and the production companies with most popular movies"
   ]
  }
 ],
 "metadata": {
  "kernelspec": {
   "display_name": "Python [conda root]",
   "language": "python",
   "name": "conda-root-py"
  },
  "language_info": {
   "codemirror_mode": {
    "name": "ipython",
    "version": 2
   },
   "file_extension": ".py",
   "mimetype": "text/x-python",
   "name": "python",
   "nbconvert_exporter": "python",
   "pygments_lexer": "ipython2",
   "version": "2.7.14"
  }
 },
 "nbformat": 4,
 "nbformat_minor": 2
}
